{
 "cells": [
  {
   "cell_type": "code",
   "execution_count": 1,
   "id": "83ee25aa-d201-4726-b62b-3c44aac4dafd",
   "metadata": {},
   "outputs": [],
   "source": [
    "# MATALA 1.2"
   ]
  },
  {
   "cell_type": "code",
   "execution_count": 14,
   "id": "0ecca55d-b123-4f12-a7c6-e327848e95a7",
   "metadata": {},
   "outputs": [],
   "source": [
    "\n",
    "def revword(word: str) -> str:\n",
    "    return word[::-1].lower()\n",
    "\n",
    "\n",
    "def countword():\n",
    "    with open('text.txt', 'r') as f:\n",
    "        word = f.readline().strip()\n",
    "        count =1\n",
    "        for line in f:\n",
    "            words = line.strip().split()\n",
    "            for w in words:\n",
    "                if revword(w) == word:\n",
    "                    count += 1\n",
    "                    print(revword(w))\n",
    "        return count"
   ]
  },
  {
   "cell_type": "code",
   "execution_count": 15,
   "id": "4e4f9466-9a98-411a-8500-bb34071e5887",
   "metadata": {},
   "outputs": [
    {
     "data": {
      "text/plain": [
       "'david'"
      ]
     },
     "execution_count": 15,
     "metadata": {},
     "output_type": "execute_result"
    }
   ],
   "source": [
    "revword(\"Divad\")"
   ]
  },
  {
   "cell_type": "code",
   "execution_count": 16,
   "id": "8e13d1cf-49df-466c-9d86-cabddbdc4094",
   "metadata": {},
   "outputs": [
    {
     "name": "stdout",
     "output_type": "stream",
     "text": [
      "first\n",
      "first\n",
      "first\n",
      "first\n",
      "first\n"
     ]
    },
    {
     "data": {
      "text/plain": [
       "6"
      ]
     },
     "execution_count": 16,
     "metadata": {},
     "output_type": "execute_result"
    }
   ],
   "source": [
    "countword()"
   ]
  },
  {
   "cell_type": "code",
   "execution_count": null,
   "id": "f6d97e5a-30af-4f5b-bb82-bcd356b448e4",
   "metadata": {},
   "outputs": [],
   "source": []
  }
 ],
 "metadata": {
  "kernelspec": {
   "display_name": "Python 3 (ipykernel)",
   "language": "python",
   "name": "python3"
  },
  "language_info": {
   "codemirror_mode": {
    "name": "ipython",
    "version": 3
   },
   "file_extension": ".py",
   "mimetype": "text/x-python",
   "name": "python",
   "nbconvert_exporter": "python",
   "pygments_lexer": "ipython3",
   "version": "3.9.13"
  }
 },
 "nbformat": 4,
 "nbformat_minor": 5
}
