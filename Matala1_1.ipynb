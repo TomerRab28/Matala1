{
 "cells": [
  {
   "cell_type": "code",
   "execution_count": 12,
   "id": "16a54271-d1d7-43ab-be8e-8dbaefdbcf1e",
   "metadata": {},
   "outputs": [],
   "source": [
    "def  my_func(x1, x2, x3):\n",
    "    pass\n",
    "    try:\n",
    "        if type(x1) != float or type(x2) != float or type(x3) != float:\n",
    "             return \"Error: parameters should be float\"\n",
    "        value = ((x1 + x2 + x3) * (x2 + x3) * x3) / (x1 + x2 + x3)\n",
    "        return value\n",
    "    except ZeroDivisionError:\n",
    "        return \"Not a number – denominator equals zero\"  \n"
   ]
  },
  {
   "cell_type": "code",
   "execution_count": 13,
   "id": "90328b69-e750-4938-85ef-0aa602e0a669",
   "metadata": {},
   "outputs": [
    {
     "data": {
      "text/plain": [
       "'Not a number – denominator equals zero'"
      ]
     },
     "execution_count": 13,
     "metadata": {},
     "output_type": "execute_result"
    }
   ],
   "source": [
    "my_func(2.0,3.0,-5.0)"
   ]
  },
  {
   "cell_type": "code",
   "execution_count": 14,
   "id": "a164b90e-64b6-4064-bf60-67aa2371a572",
   "metadata": {},
   "outputs": [
    {
     "data": {
      "text/plain": [
       "'Error: parameters should be float'"
      ]
     },
     "execution_count": 14,
     "metadata": {},
     "output_type": "execute_result"
    }
   ],
   "source": [
    "my_func(2.0,3.0,5)"
   ]
  },
  {
   "cell_type": "code",
   "execution_count": 15,
   "id": "cd1ba1ac-0a39-4fe7-8928-c6b1dc6e43a8",
   "metadata": {},
   "outputs": [
    {
     "data": {
      "text/plain": [
       "70.0"
      ]
     },
     "execution_count": 15,
     "metadata": {},
     "output_type": "execute_result"
    }
   ],
   "source": [
    "my_func(2.0,3.0,7.0)"
   ]
  },
  {
   "cell_type": "code",
   "execution_count": null,
   "id": "3caad3a5-8864-4c04-8088-03ebdc036fe0",
   "metadata": {},
   "outputs": [],
   "source": []
  }
 ],
 "metadata": {
  "kernelspec": {
   "display_name": "Python 3 (ipykernel)",
   "language": "python",
   "name": "python3"
  },
  "language_info": {
   "codemirror_mode": {
    "name": "ipython",
    "version": 3
   },
   "file_extension": ".py",
   "mimetype": "text/x-python",
   "name": "python",
   "nbconvert_exporter": "python",
   "pygments_lexer": "ipython3",
   "version": "3.9.13"
  }
 },
 "nbformat": 4,
 "nbformat_minor": 5
}
